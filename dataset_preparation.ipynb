{
 "cells": [
  {
   "cell_type": "markdown",
   "metadata": {},
   "source": [
    "**Importing necessary library**"
   ]
  },
  {
   "cell_type": "code",
   "execution_count": 1,
   "metadata": {
    "id": "HYXTNNw2r6Ew"
   },
   "outputs": [],
   "source": [
    "import pandas as pd\n",
    "import numpy as np"
   ]
  },
  {
   "cell_type": "markdown",
   "metadata": {},
   "source": [
    "**Reading Dataframes**"
   ]
  },
  {
   "cell_type": "code",
   "execution_count": 2,
   "metadata": {
    "id": "nmrT1N6_vld4"
   },
   "outputs": [],
   "source": [
    "ids = pd.read_csv('./data/image_ids_and_rotation.csv')\n",
    "ann = pd.read_csv('./data/oidv6-class-descriptions.csv')\n",
    "df = pd.read_csv('./data/train-annotations-human-imagelabels-boxable.csv')"
   ]
  },
  {
   "cell_type": "markdown",
   "metadata": {},
   "source": [
    "**Joining annotations and IDs to obtain written annotations**"
   ]
  },
  {
   "cell_type": "code",
   "execution_count": 3,
   "metadata": {
    "id": "1rmiZTr_7Ctr"
   },
   "outputs": [],
   "source": [
    "merged = pd.merge(df, ann)"
   ]
  },
  {
   "cell_type": "markdown",
   "metadata": {},
   "source": [
    "**Deleting unnecessary columns**"
   ]
  },
  {
   "cell_type": "code",
   "execution_count": 4,
   "metadata": {},
   "outputs": [],
   "source": [
    "del merged['LabelName']\n",
    "del merged['Source']"
   ]
  },
  {
   "cell_type": "markdown",
   "metadata": {},
   "source": [
    "**Collecting all tags into a single row by grouping by ImageID**"
   ]
  },
  {
   "cell_type": "code",
   "execution_count": 5,
   "metadata": {
    "id": "6HBEnYT1-tow"
   },
   "outputs": [],
   "source": [
    "distinct = merged.groupby('ImageID').agg({'DisplayName' : ', '.join})\n",
    "distinct = distinct.rename({'DisplayName':'tags'}, axis=1)"
   ]
  },
  {
   "cell_type": "markdown",
   "metadata": {},
   "source": [
    "**Joining images with all infos (Author, URL, ...)**"
   ]
  },
  {
   "cell_type": "code",
   "execution_count": 6,
   "metadata": {
    "id": "oRIZwPny7T3x"
   },
   "outputs": [],
   "source": [
    "final = ids.merge(distinct, how = 'inner', on = ['ImageID'])"
   ]
  },
  {
   "cell_type": "code",
   "execution_count": 7,
   "metadata": {},
   "outputs": [],
   "source": [
    "final['AuthorProfileURL'] = final['AuthorProfileURL'].apply(lambda x:x.split('/')[4] )\n",
    "final = final.rename({'AuthorProfileURL':'AuthorID'}, axis=1)"
   ]
  },
  {
   "cell_type": "markdown",
   "metadata": {},
   "source": [
    "**Deleting unnecessary columns**"
   ]
  },
  {
   "cell_type": "code",
   "execution_count": 8,
   "metadata": {},
   "outputs": [],
   "source": [
    "del final['Subset']\n",
    "del final['OriginalLandingURL']\n",
    "del final['License']\n",
    "del final['Author']\n",
    "del final['OriginalSize']\n",
    "del final['OriginalMD5']\n",
    "del final['Thumbnail300KURL']\n",
    "del final['Rotation']"
   ]
  },
  {
   "cell_type": "markdown",
   "metadata": {},
   "source": [
    "**Saving the final dataframes as csv file**"
   ]
  },
  {
   "cell_type": "code",
   "execution_count": null,
   "metadata": {},
   "outputs": [],
   "source": [
    "final.to_csv('./data/ready_to_extract_dataset.csv')"
   ]
  },
  {
   "cell_type": "code",
   "execution_count": 10,
   "metadata": {},
   "outputs": [],
   "source": [
    "for count, item in enumerate(np.array_split(final, 21)):\n",
    "    item.to_csv('./data/ready_to_extract_sub_dataset_{}.csv'.format(count+1))    "
   ]
  },
  {
   "cell_type": "code",
   "execution_count": null,
   "metadata": {},
   "outputs": [],
   "source": []
  }
 ],
 "metadata": {
  "colab": {
   "provenance": []
  },
  "kernelspec": {
   "display_name": "Python 3 (ipykernel)",
   "language": "python",
   "name": "python3"
  },
  "language_info": {
   "codemirror_mode": {
    "name": "ipython",
    "version": 3
   },
   "file_extension": ".py",
   "mimetype": "text/x-python",
   "name": "python",
   "nbconvert_exporter": "python",
   "pygments_lexer": "ipython3",
   "version": "3.8.0"
  }
 },
 "nbformat": 4,
 "nbformat_minor": 1
}
