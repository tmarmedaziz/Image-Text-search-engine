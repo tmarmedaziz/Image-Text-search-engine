{
 "cells": [
  {
   "cell_type": "markdown",
   "metadata": {},
   "source": [
    "**The entire process was run in batches because feature extraction was too time consuming.**"
   ]
  },
  {
   "cell_type": "code",
   "execution_count": 1,
   "metadata": {
    "id": "joBSTKzdq2dj"
   },
   "outputs": [],
   "source": [
    "from sklearn.decomposition import PCA\n",
    "import pandas as pd\n",
    "from sklearn.pipeline import Pipeline\n",
    "import numpy as np\n",
    "import pickle"
   ]
  },
  {
   "cell_type": "markdown",
   "metadata": {},
   "source": [
    "**Reading the dataframe**"
   ]
  },
  {
   "cell_type": "code",
   "execution_count": 2,
   "metadata": {
    "id": "koxAdu4kq64d"
   },
   "outputs": [],
   "source": [
    "df = pd.read_csv('./data/extracted_features_sub_dataset_1.csv')"
   ]
  },
  {
   "cell_type": "markdown",
   "metadata": {},
   "source": [
    "**Extracting the desired features from the dataframe**"
   ]
  },
  {
   "cell_type": "code",
   "execution_count": 3,
   "metadata": {
    "id": "_vcCIdGlsDWw"
   },
   "outputs": [],
   "source": [
    "x = df.loc[:,[\"f {}\".format(i+1) for i in range(4096) ]].values"
   ]
  },
  {
   "cell_type": "markdown",
   "metadata": {},
   "source": [
    "**Loading and applying PCA for the data**"
   ]
  },
  {
   "cell_type": "code",
   "execution_count": null,
   "metadata": {
    "id": "UD05xm99sLQh"
   },
   "outputs": [],
   "source": [
    "pca = PCA(n_components=512)\n",
    "principalComponents = pca.fit_transform(x)"
   ]
  },
  {
   "cell_type": "markdown",
   "metadata": {},
   "source": [
    "**Storing of the PCA model to be used later in the search**"
   ]
  },
  {
   "cell_type": "code",
   "execution_count": null,
   "metadata": {
    "id": "FqpZ20KoQet8"
   },
   "outputs": [],
   "source": [
    "filename = './data/pca_model.pkl'\n",
    "pickle.dump(pca, open(filename, 'wb'))"
   ]
  },
  {
   "cell_type": "markdown",
   "metadata": {},
   "source": [
    "**Storing the final dataframe to be indexed in ElasticSearch**"
   ]
  },
  {
   "cell_type": "code",
   "execution_count": null,
   "metadata": {
    "id": "S0Ft_LUeuUPK"
   },
   "outputs": [],
   "source": [
    "principalDf = pd.DataFrame(data = principalComponents, columns = [\"f {}\".format(i+1) for i in range(512) ] )"
   ]
  },
  {
   "cell_type": "code",
   "execution_count": null,
   "metadata": {
    "id": "qnk9RVMgyL-o"
   },
   "outputs": [],
   "source": [
    "important_columns = ['ImageID', 'OriginalURL', 'AuthorID', 'Title', 'tags']"
   ]
  },
  {
   "cell_type": "code",
   "execution_count": null,
   "metadata": {
    "id": "BodZdp6aw9_r"
   },
   "outputs": [],
   "source": [
    "result = pd.concat([df.loc[:,important_columns], principalDf], axis=1, join='inner')"
   ]
  },
  {
   "cell_type": "code",
   "execution_count": null,
   "metadata": {
    "id": "9w4CrKQbRdPC"
   },
   "outputs": [],
   "source": [
    "result.to_csv('./data/extracted_features_sub_dataset_1_reducted.csv')"
   ]
  },
  {
   "cell_type": "code",
   "execution_count": null,
   "metadata": {
    "colab": {
     "base_uri": "https://localhost:8080/",
     "height": 716
    },
    "id": "gB9gJrnkRl9t",
    "outputId": "094e7c4e-e4df-4e6d-e687-f423522a822e"
   },
   "outputs": [
    {
     "data": {
      "text/html": [
       "\n",
       "  <div id=\"df-1ac5a0e3-e7a3-4f21-a14d-8217d4574f73\">\n",
       "    <div class=\"colab-df-container\">\n",
       "      <div>\n",
       "<style scoped>\n",
       "    .dataframe tbody tr th:only-of-type {\n",
       "        vertical-align: middle;\n",
       "    }\n",
       "\n",
       "    .dataframe tbody tr th {\n",
       "        vertical-align: top;\n",
       "    }\n",
       "\n",
       "    .dataframe thead th {\n",
       "        text-align: right;\n",
       "    }\n",
       "</style>\n",
       "<table border=\"1\" class=\"dataframe\">\n",
       "  <thead>\n",
       "    <tr style=\"text-align: right;\">\n",
       "      <th></th>\n",
       "      <th>ImageID</th>\n",
       "      <th>OriginalURL</th>\n",
       "      <th>AuthorID</th>\n",
       "      <th>Title</th>\n",
       "      <th>tags</th>\n",
       "      <th>f 1</th>\n",
       "      <th>f 2</th>\n",
       "      <th>f 3</th>\n",
       "      <th>f 4</th>\n",
       "      <th>f 5</th>\n",
       "      <th>...</th>\n",
       "      <th>f 503</th>\n",
       "      <th>f 504</th>\n",
       "      <th>f 505</th>\n",
       "      <th>f 506</th>\n",
       "      <th>f 507</th>\n",
       "      <th>f 508</th>\n",
       "      <th>f 509</th>\n",
       "      <th>f 510</th>\n",
       "      <th>f 511</th>\n",
       "      <th>f 512</th>\n",
       "    </tr>\n",
       "  </thead>\n",
       "  <tbody>\n",
       "    <tr>\n",
       "      <th>0</th>\n",
       "      <td>4fa8054781a4c382</td>\n",
       "      <td>https://farm3.staticflickr.com/5310/5898076654...</td>\n",
       "      <td>michael-beat</td>\n",
       "      <td>...die FNF-Kerze</td>\n",
       "      <td>Person, Clock, Clothing, Flower, Human face, H...</td>\n",
       "      <td>0.010552</td>\n",
       "      <td>-0.003925</td>\n",
       "      <td>-0.022008</td>\n",
       "      <td>0.008379</td>\n",
       "      <td>-0.003412</td>\n",
       "      <td>...</td>\n",
       "      <td>-0.001277</td>\n",
       "      <td>0.000387</td>\n",
       "      <td>-0.001471</td>\n",
       "      <td>0.000747</td>\n",
       "      <td>-0.001833</td>\n",
       "      <td>0.000651</td>\n",
       "      <td>0.000730</td>\n",
       "      <td>-0.000271</td>\n",
       "      <td>0.001058</td>\n",
       "      <td>-0.000970</td>\n",
       "    </tr>\n",
       "    <tr>\n",
       "      <th>1</th>\n",
       "      <td>b37f763ae67d0888</td>\n",
       "      <td>https://c1.staticflickr.com/1/67/197493648_628...</td>\n",
       "      <td>drstarbuck</td>\n",
       "      <td>Three boys on a hill</td>\n",
       "      <td>Person, Man, Plant, Clothing</td>\n",
       "      <td>0.002671</td>\n",
       "      <td>-0.012279</td>\n",
       "      <td>0.010701</td>\n",
       "      <td>-0.025629</td>\n",
       "      <td>0.000239</td>\n",
       "      <td>...</td>\n",
       "      <td>0.000276</td>\n",
       "      <td>-0.000151</td>\n",
       "      <td>-0.001541</td>\n",
       "      <td>-0.001535</td>\n",
       "      <td>-0.001718</td>\n",
       "      <td>0.002071</td>\n",
       "      <td>0.001282</td>\n",
       "      <td>0.000330</td>\n",
       "      <td>-0.001213</td>\n",
       "      <td>0.000608</td>\n",
       "    </tr>\n",
       "    <tr>\n",
       "      <th>2</th>\n",
       "      <td>7e8584b0f487cb9e</td>\n",
       "      <td>https://c7.staticflickr.com/8/7056/7143870979_...</td>\n",
       "      <td>circasassy</td>\n",
       "      <td>A Christmas carol and The cricket on the heart...</td>\n",
       "      <td>Person, Human body, Woman, Human hair, Human h...</td>\n",
       "      <td>-0.002613</td>\n",
       "      <td>0.011978</td>\n",
       "      <td>0.012581</td>\n",
       "      <td>0.000491</td>\n",
       "      <td>-0.006902</td>\n",
       "      <td>...</td>\n",
       "      <td>-0.000687</td>\n",
       "      <td>0.002708</td>\n",
       "      <td>-0.000391</td>\n",
       "      <td>-0.001446</td>\n",
       "      <td>-0.000363</td>\n",
       "      <td>-0.001231</td>\n",
       "      <td>0.002271</td>\n",
       "      <td>-0.000520</td>\n",
       "      <td>0.002895</td>\n",
       "      <td>0.002471</td>\n",
       "    </tr>\n",
       "    <tr>\n",
       "      <th>3</th>\n",
       "      <td>249086e72671397d</td>\n",
       "      <td>https://c6.staticflickr.com/4/3930/15342460029...</td>\n",
       "      <td>codnewsroom</td>\n",
       "      <td>Suburban Law Enforcement Academy 20th Annivers...</td>\n",
       "      <td>Person, Building, Window</td>\n",
       "      <td>0.003937</td>\n",
       "      <td>-0.012419</td>\n",
       "      <td>-0.019988</td>\n",
       "      <td>0.010696</td>\n",
       "      <td>-0.003101</td>\n",
       "      <td>...</td>\n",
       "      <td>-0.001327</td>\n",
       "      <td>0.000981</td>\n",
       "      <td>-0.000959</td>\n",
       "      <td>0.000232</td>\n",
       "      <td>-0.000457</td>\n",
       "      <td>-0.001160</td>\n",
       "      <td>-0.000236</td>\n",
       "      <td>0.001170</td>\n",
       "      <td>0.000550</td>\n",
       "      <td>0.001443</td>\n",
       "    </tr>\n",
       "    <tr>\n",
       "      <th>4</th>\n",
       "      <td>3c2fad96113ca97e</td>\n",
       "      <td>https://c7.staticflickr.com/1/668/21529344631_...</td>\n",
       "      <td>96228372@N06</td>\n",
       "      <td>Morning Light</td>\n",
       "      <td>Person, Woman, Girl, Clothing</td>\n",
       "      <td>0.007681</td>\n",
       "      <td>0.010849</td>\n",
       "      <td>-0.007089</td>\n",
       "      <td>-0.002350</td>\n",
       "      <td>-0.003655</td>\n",
       "      <td>...</td>\n",
       "      <td>-0.000341</td>\n",
       "      <td>-0.000643</td>\n",
       "      <td>-0.000062</td>\n",
       "      <td>0.000335</td>\n",
       "      <td>0.000053</td>\n",
       "      <td>0.000805</td>\n",
       "      <td>-0.001937</td>\n",
       "      <td>-0.001491</td>\n",
       "      <td>-0.001454</td>\n",
       "      <td>0.002359</td>\n",
       "    </tr>\n",
       "  </tbody>\n",
       "</table>\n",
       "<p>5 rows × 517 columns</p>\n",
       "</div>\n",
       "      <button class=\"colab-df-convert\" onclick=\"convertToInteractive('df-1ac5a0e3-e7a3-4f21-a14d-8217d4574f73')\"\n",
       "              title=\"Convert this dataframe to an interactive table.\"\n",
       "              style=\"display:none;\">\n",
       "        \n",
       "  <svg xmlns=\"http://www.w3.org/2000/svg\" height=\"24px\"viewBox=\"0 0 24 24\"\n",
       "       width=\"24px\">\n",
       "    <path d=\"M0 0h24v24H0V0z\" fill=\"none\"/>\n",
       "    <path d=\"M18.56 5.44l.94 2.06.94-2.06 2.06-.94-2.06-.94-.94-2.06-.94 2.06-2.06.94zm-11 1L8.5 8.5l.94-2.06 2.06-.94-2.06-.94L8.5 2.5l-.94 2.06-2.06.94zm10 10l.94 2.06.94-2.06 2.06-.94-2.06-.94-.94-2.06-.94 2.06-2.06.94z\"/><path d=\"M17.41 7.96l-1.37-1.37c-.4-.4-.92-.59-1.43-.59-.52 0-1.04.2-1.43.59L10.3 9.45l-7.72 7.72c-.78.78-.78 2.05 0 2.83L4 21.41c.39.39.9.59 1.41.59.51 0 1.02-.2 1.41-.59l7.78-7.78 2.81-2.81c.8-.78.8-2.07 0-2.86zM5.41 20L4 18.59l7.72-7.72 1.47 1.35L5.41 20z\"/>\n",
       "  </svg>\n",
       "      </button>\n",
       "      \n",
       "  <style>\n",
       "    .colab-df-container {\n",
       "      display:flex;\n",
       "      flex-wrap:wrap;\n",
       "      gap: 12px;\n",
       "    }\n",
       "\n",
       "    .colab-df-convert {\n",
       "      background-color: #E8F0FE;\n",
       "      border: none;\n",
       "      border-radius: 50%;\n",
       "      cursor: pointer;\n",
       "      display: none;\n",
       "      fill: #1967D2;\n",
       "      height: 32px;\n",
       "      padding: 0 0 0 0;\n",
       "      width: 32px;\n",
       "    }\n",
       "\n",
       "    .colab-df-convert:hover {\n",
       "      background-color: #E2EBFA;\n",
       "      box-shadow: 0px 1px 2px rgba(60, 64, 67, 0.3), 0px 1px 3px 1px rgba(60, 64, 67, 0.15);\n",
       "      fill: #174EA6;\n",
       "    }\n",
       "\n",
       "    [theme=dark] .colab-df-convert {\n",
       "      background-color: #3B4455;\n",
       "      fill: #D2E3FC;\n",
       "    }\n",
       "\n",
       "    [theme=dark] .colab-df-convert:hover {\n",
       "      background-color: #434B5C;\n",
       "      box-shadow: 0px 1px 3px 1px rgba(0, 0, 0, 0.15);\n",
       "      filter: drop-shadow(0px 1px 2px rgba(0, 0, 0, 0.3));\n",
       "      fill: #FFFFFF;\n",
       "    }\n",
       "  </style>\n",
       "\n",
       "      <script>\n",
       "        const buttonEl =\n",
       "          document.querySelector('#df-1ac5a0e3-e7a3-4f21-a14d-8217d4574f73 button.colab-df-convert');\n",
       "        buttonEl.style.display =\n",
       "          google.colab.kernel.accessAllowed ? 'block' : 'none';\n",
       "\n",
       "        async function convertToInteractive(key) {\n",
       "          const element = document.querySelector('#df-1ac5a0e3-e7a3-4f21-a14d-8217d4574f73');\n",
       "          const dataTable =\n",
       "            await google.colab.kernel.invokeFunction('convertToInteractive',\n",
       "                                                     [key], {});\n",
       "          if (!dataTable) return;\n",
       "\n",
       "          const docLinkHtml = 'Like what you see? Visit the ' +\n",
       "            '<a target=\"_blank\" href=https://colab.research.google.com/notebooks/data_table.ipynb>data table notebook</a>'\n",
       "            + ' to learn more about interactive tables.';\n",
       "          element.innerHTML = '';\n",
       "          dataTable['output_type'] = 'display_data';\n",
       "          await google.colab.output.renderOutput(dataTable, element);\n",
       "          const docLink = document.createElement('div');\n",
       "          docLink.innerHTML = docLinkHtml;\n",
       "          element.appendChild(docLink);\n",
       "        }\n",
       "      </script>\n",
       "    </div>\n",
       "  </div>\n",
       "  "
      ],
      "text/plain": [
       "            ImageID                                        OriginalURL  \\\n",
       "0  4fa8054781a4c382  https://farm3.staticflickr.com/5310/5898076654...   \n",
       "1  b37f763ae67d0888  https://c1.staticflickr.com/1/67/197493648_628...   \n",
       "2  7e8584b0f487cb9e  https://c7.staticflickr.com/8/7056/7143870979_...   \n",
       "3  249086e72671397d  https://c6.staticflickr.com/4/3930/15342460029...   \n",
       "4  3c2fad96113ca97e  https://c7.staticflickr.com/1/668/21529344631_...   \n",
       "\n",
       "       AuthorID                                              Title  \\\n",
       "0  michael-beat                                   ...die FNF-Kerze   \n",
       "1    drstarbuck                               Three boys on a hill   \n",
       "2    circasassy  A Christmas carol and The cricket on the heart...   \n",
       "3   codnewsroom  Suburban Law Enforcement Academy 20th Annivers...   \n",
       "4  96228372@N06                                      Morning Light   \n",
       "\n",
       "                                                tags       f 1       f 2  \\\n",
       "0  Person, Clock, Clothing, Flower, Human face, H...  0.010552 -0.003925   \n",
       "1                       Person, Man, Plant, Clothing  0.002671 -0.012279   \n",
       "2  Person, Human body, Woman, Human hair, Human h... -0.002613  0.011978   \n",
       "3                           Person, Building, Window  0.003937 -0.012419   \n",
       "4                      Person, Woman, Girl, Clothing  0.007681  0.010849   \n",
       "\n",
       "        f 3       f 4       f 5  ...     f 503     f 504     f 505     f 506  \\\n",
       "0 -0.022008  0.008379 -0.003412  ... -0.001277  0.000387 -0.001471  0.000747   \n",
       "1  0.010701 -0.025629  0.000239  ...  0.000276 -0.000151 -0.001541 -0.001535   \n",
       "2  0.012581  0.000491 -0.006902  ... -0.000687  0.002708 -0.000391 -0.001446   \n",
       "3 -0.019988  0.010696 -0.003101  ... -0.001327  0.000981 -0.000959  0.000232   \n",
       "4 -0.007089 -0.002350 -0.003655  ... -0.000341 -0.000643 -0.000062  0.000335   \n",
       "\n",
       "      f 507     f 508     f 509     f 510     f 511     f 512  \n",
       "0 -0.001833  0.000651  0.000730 -0.000271  0.001058 -0.000970  \n",
       "1 -0.001718  0.002071  0.001282  0.000330 -0.001213  0.000608  \n",
       "2 -0.000363 -0.001231  0.002271 -0.000520  0.002895  0.002471  \n",
       "3 -0.000457 -0.001160 -0.000236  0.001170  0.000550  0.001443  \n",
       "4  0.000053  0.000805 -0.001937 -0.001491 -0.001454  0.002359  \n",
       "\n",
       "[5 rows x 517 columns]"
      ]
     },
     "execution_count": 12,
     "metadata": {},
     "output_type": "execute_result"
    }
   ],
   "source": [
    "result.head()"
   ]
  },
  {
   "cell_type": "code",
   "execution_count": null,
   "metadata": {
    "id": "gAkABUSKRm7e"
   },
   "outputs": [],
   "source": []
  }
 ],
 "metadata": {
  "colab": {
   "collapsed_sections": [],
   "provenance": []
  },
  "kernelspec": {
   "display_name": "Python 3.10.2 64-bit",
   "language": "python",
   "name": "python3"
  },
  "language_info": {
   "codemirror_mode": {
    "name": "ipython",
    "version": 3
   },
   "file_extension": ".py",
   "mimetype": "text/x-python",
   "name": "python",
   "nbconvert_exporter": "python",
   "pygments_lexer": "ipython3",
   "version": "3.10.2"
  },
  "vscode": {
   "interpreter": {
    "hash": "26de051ba29f2982a8de78e945f0abaf191376122a1563185a90213a26c5da77"
   }
  }
 },
 "nbformat": 4,
 "nbformat_minor": 1
}
